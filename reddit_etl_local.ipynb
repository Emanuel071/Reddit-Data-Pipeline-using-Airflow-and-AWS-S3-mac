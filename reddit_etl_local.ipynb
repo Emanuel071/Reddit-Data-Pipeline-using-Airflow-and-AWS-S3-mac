{
 "cells": [
  {
   "cell_type": "code",
   "execution_count": 1,
   "id": "fb6bde49",
   "metadata": {
    "scrolled": true
   },
   "outputs": [
    {
     "name": "stdout",
     "output_type": "stream",
     "text": [
      "Requirement already satisfied: praw in c:\\users\\oguzo\\anaconda3\\lib\\site-packages (7.7.0)\n",
      "Requirement already satisfied: update-checker>=0.18 in c:\\users\\oguzo\\anaconda3\\lib\\site-packages (from praw) (0.18.0)\n",
      "Requirement already satisfied: websocket-client>=0.54.0 in c:\\users\\oguzo\\anaconda3\\lib\\site-packages (from praw) (0.58.0)\n",
      "Requirement already satisfied: prawcore<3,>=2.1 in c:\\users\\oguzo\\anaconda3\\lib\\site-packages (from praw) (2.3.0)\n",
      "Requirement already satisfied: requests<3.0,>=2.6.0 in c:\\users\\oguzo\\anaconda3\\lib\\site-packages (from prawcore<3,>=2.1->praw) (2.28.1)\n",
      "Requirement already satisfied: six in c:\\users\\oguzo\\anaconda3\\lib\\site-packages (from websocket-client>=0.54.0->praw) (1.16.0)\n",
      "Requirement already satisfied: certifi>=2017.4.17 in c:\\users\\oguzo\\anaconda3\\lib\\site-packages (from requests<3.0,>=2.6.0->prawcore<3,>=2.1->praw) (2022.12.7)\n",
      "Requirement already satisfied: urllib3<1.27,>=1.21.1 in c:\\users\\oguzo\\anaconda3\\lib\\site-packages (from requests<3.0,>=2.6.0->prawcore<3,>=2.1->praw) (1.26.14)\n",
      "Requirement already satisfied: idna<4,>=2.5 in c:\\users\\oguzo\\anaconda3\\lib\\site-packages (from requests<3.0,>=2.6.0->prawcore<3,>=2.1->praw) (3.4)\n",
      "Requirement already satisfied: charset-normalizer<3,>=2 in c:\\users\\oguzo\\anaconda3\\lib\\site-packages (from requests<3.0,>=2.6.0->prawcore<3,>=2.1->praw) (2.0.4)\n",
      "Requirement already satisfied: s3fs in c:\\users\\oguzo\\anaconda3\\lib\\site-packages (2023.4.0)\n",
      "Requirement already satisfied: fsspec==2023.4.0 in c:\\users\\oguzo\\anaconda3\\lib\\site-packages (from s3fs) (2023.4.0)\n",
      "Requirement already satisfied: aiobotocore~=2.5.0 in c:\\users\\oguzo\\anaconda3\\lib\\site-packages (from s3fs) (2.5.0)\n",
      "Requirement already satisfied: aiohttp!=4.0.0a0,!=4.0.0a1 in c:\\users\\oguzo\\anaconda3\\lib\\site-packages (from s3fs) (3.8.4)\n",
      "Requirement already satisfied: botocore<1.29.77,>=1.29.76 in c:\\users\\oguzo\\anaconda3\\lib\\site-packages (from aiobotocore~=2.5.0->s3fs) (1.29.76)\n",
      "Requirement already satisfied: wrapt>=1.10.10 in c:\\users\\oguzo\\anaconda3\\lib\\site-packages (from aiobotocore~=2.5.0->s3fs) (1.14.1)\n",
      "Requirement already satisfied: aioitertools>=0.5.1 in c:\\users\\oguzo\\anaconda3\\lib\\site-packages (from aiobotocore~=2.5.0->s3fs) (0.11.0)\n",
      "Requirement already satisfied: aiosignal>=1.1.2 in c:\\users\\oguzo\\anaconda3\\lib\\site-packages (from aiohttp!=4.0.0a0,!=4.0.0a1->s3fs) (1.3.1)\n",
      "Requirement already satisfied: frozenlist>=1.1.1 in c:\\users\\oguzo\\anaconda3\\lib\\site-packages (from aiohttp!=4.0.0a0,!=4.0.0a1->s3fs) (1.3.3)\n",
      "Requirement already satisfied: multidict<7.0,>=4.5 in c:\\users\\oguzo\\anaconda3\\lib\\site-packages (from aiohttp!=4.0.0a0,!=4.0.0a1->s3fs) (6.0.4)\n",
      "Requirement already satisfied: charset-normalizer<4.0,>=2.0 in c:\\users\\oguzo\\anaconda3\\lib\\site-packages (from aiohttp!=4.0.0a0,!=4.0.0a1->s3fs) (2.0.4)\n",
      "Requirement already satisfied: yarl<2.0,>=1.0 in c:\\users\\oguzo\\anaconda3\\lib\\site-packages (from aiohttp!=4.0.0a0,!=4.0.0a1->s3fs) (1.8.2)\n",
      "Requirement already satisfied: attrs>=17.3.0 in c:\\users\\oguzo\\anaconda3\\lib\\site-packages (from aiohttp!=4.0.0a0,!=4.0.0a1->s3fs) (22.1.0)\n",
      "Requirement already satisfied: async-timeout<5.0,>=4.0.0a3 in c:\\users\\oguzo\\anaconda3\\lib\\site-packages (from aiohttp!=4.0.0a0,!=4.0.0a1->s3fs) (4.0.2)\n",
      "Requirement already satisfied: python-dateutil<3.0.0,>=2.1 in c:\\users\\oguzo\\anaconda3\\lib\\site-packages (from botocore<1.29.77,>=1.29.76->aiobotocore~=2.5.0->s3fs) (2.8.2)\n",
      "Requirement already satisfied: urllib3<1.27,>=1.25.4 in c:\\users\\oguzo\\anaconda3\\lib\\site-packages (from botocore<1.29.77,>=1.29.76->aiobotocore~=2.5.0->s3fs) (1.26.14)\n",
      "Requirement already satisfied: jmespath<2.0.0,>=0.7.1 in c:\\users\\oguzo\\anaconda3\\lib\\site-packages (from botocore<1.29.77,>=1.29.76->aiobotocore~=2.5.0->s3fs) (0.10.0)\n",
      "Requirement already satisfied: idna>=2.0 in c:\\users\\oguzo\\anaconda3\\lib\\site-packages (from yarl<2.0,>=1.0->aiohttp!=4.0.0a0,!=4.0.0a1->s3fs) (3.4)\n",
      "Requirement already satisfied: six>=1.5 in c:\\users\\oguzo\\anaconda3\\lib\\site-packages (from python-dateutil<3.0.0,>=2.1->botocore<1.29.77,>=1.29.76->aiobotocore~=2.5.0->s3fs) (1.16.0)\n"
     ]
    }
   ],
   "source": [
    "!pip install praw\n",
    "!pip install s3fs"
   ]
  },
  {
   "cell_type": "code",
   "execution_count": 2,
   "id": "3a22d660",
   "metadata": {},
   "outputs": [],
   "source": [
    "from os import access\n",
    "import praw\n",
    "import pandas as pd \n",
    "import json\n",
    "from datetime import datetime\n",
    "import s3fs"
   ]
  },
  {
   "cell_type": "code",
   "execution_count": 20,
   "id": "25dade11",
   "metadata": {},
   "outputs": [],
   "source": [
    "def run_reddit_etl():\n",
    "\n",
    "    user_agent = \"Scrapper 1.0 by /u/Blazey25\"\n",
    "    reddit = praw.Reddit(\n",
    "        client_id= \"0pZcWddNk-h6TEmgL3MBeg\",\n",
    "        client_secret = \"k05ybinR7shQMfbsVFQ-vK89N-yOdA\",\n",
    "        user_agent= user_agent\n",
    "        )\n",
    "    \n",
    "\n",
    "    reddit_list = []\n",
    "    for submission in reddit.subreddit('politics').hot(limit=5):\n",
    "        submission_data = {\"title\": submission.title,\n",
    "                       \"id\": submission.id,\n",
    "                       \"author\": submission.author.name,\n",
    "                       \"created_utc\": submission.created_utc,\n",
    "                       \"score\": submission.score,\n",
    "                       \"upvote_ratio\": submission.upvote_ratio,\n",
    "                       \"url\": submission.url\n",
    "                      }\n",
    "        reddit_list.append(submission_data)\n",
    "    print(reddit_list)\n",
    "    return reddit_list"
   ]
  },
  {
   "cell_type": "code",
   "execution_count": 21,
   "id": "9ec18f1c",
   "metadata": {
    "scrolled": true
   },
   "outputs": [
    {
     "name": "stdout",
     "output_type": "stream",
     "text": [
      "[{'title': 'Missouri State Senator Doubles Down on Marriage for 12-Year-Olds', 'id': '12tzj87', 'author': 'claire0', 'created_utc': 1682078568.0, 'score': 2024, 'upvote_ratio': 0.97, 'url': 'https://www.thedailybeast.com/missouri-state-sen-mike-moon-doubles-down-on-marriage-for-12-year-olds'}, {'title': 'Judge Who Ruled Against Abortion Pill Didn’t Disclose Christian Radio Appearances: CNN', 'id': '12tzzn6', 'author': 'UGMadness', 'created_utc': 1682079707.0, 'score': 1365, 'upvote_ratio': 0.98, 'url': 'https://www.huffpost.com/entry/judge-matthew-kacsmaryk-christian-radio-abortion_n_64420b98e4b04997b570a368'}, {'title': 'The Handmaid’s Tale could become reality in the US at midnight tonight', 'id': '12u03si', 'author': 'theindependentonline', 'created_utc': 1682079988.0, 'score': 1286, 'upvote_ratio': 0.93, 'url': 'https://www.independent.co.uk/voices/abortion-pill-mifepristone-supreme-court-today-b2324237.html'}, {'title': 'Ann Coulter\\'s abortion compromise: Ban \"For registered Republicans only\"', 'id': '12tmon9', 'author': 'hardcorepolka', 'created_utc': 1682042037.0, 'score': 12051, 'upvote_ratio': 0.96, 'url': 'https://www.newsweek.com/ann-coulters-abortion-compromise-ban-registered-republicans-only-1795472'}, {'title': \"Is Ron DeSantis done? His U.S. presidential bid is sputtering before launch | Florida governor's polling is down, donors are distressed and prized endorsements are flowing to Trump\", 'id': '12tw87f', 'author': 'Hrmbee', 'created_utc': 1682069799.0, 'score': 1545, 'upvote_ratio': 0.98, 'url': 'https://www.cbc.ca/news/world/desantis-campaign-challenges-analysis-1.6817261'}]\n"
     ]
    }
   ],
   "source": [
    "reddit_list = run_reddit_etl()"
   ]
  },
  {
   "cell_type": "code",
   "execution_count": 24,
   "id": "088de600",
   "metadata": {
    "scrolled": true
   },
   "outputs": [
    {
     "data": {
      "text/html": [
       "<div>\n",
       "<style scoped>\n",
       "    .dataframe tbody tr th:only-of-type {\n",
       "        vertical-align: middle;\n",
       "    }\n",
       "\n",
       "    .dataframe tbody tr th {\n",
       "        vertical-align: top;\n",
       "    }\n",
       "\n",
       "    .dataframe thead th {\n",
       "        text-align: right;\n",
       "    }\n",
       "</style>\n",
       "<table border=\"1\" class=\"dataframe\">\n",
       "  <thead>\n",
       "    <tr style=\"text-align: right;\">\n",
       "      <th></th>\n",
       "      <th>title</th>\n",
       "      <th>id</th>\n",
       "      <th>author</th>\n",
       "      <th>created_utc</th>\n",
       "      <th>score</th>\n",
       "      <th>upvote_ratio</th>\n",
       "      <th>url</th>\n",
       "    </tr>\n",
       "  </thead>\n",
       "  <tbody>\n",
       "    <tr>\n",
       "      <th>0</th>\n",
       "      <td>Missouri State Senator Doubles Down on Marriag...</td>\n",
       "      <td>12tzj87</td>\n",
       "      <td>claire0</td>\n",
       "      <td>1.682079e+09</td>\n",
       "      <td>2024</td>\n",
       "      <td>0.97</td>\n",
       "      <td>https://www.thedailybeast.com/missouri-state-s...</td>\n",
       "    </tr>\n",
       "    <tr>\n",
       "      <th>1</th>\n",
       "      <td>Judge Who Ruled Against Abortion Pill Didn’t D...</td>\n",
       "      <td>12tzzn6</td>\n",
       "      <td>UGMadness</td>\n",
       "      <td>1.682080e+09</td>\n",
       "      <td>1365</td>\n",
       "      <td>0.98</td>\n",
       "      <td>https://www.huffpost.com/entry/judge-matthew-k...</td>\n",
       "    </tr>\n",
       "    <tr>\n",
       "      <th>2</th>\n",
       "      <td>The Handmaid’s Tale could become reality in th...</td>\n",
       "      <td>12u03si</td>\n",
       "      <td>theindependentonline</td>\n",
       "      <td>1.682080e+09</td>\n",
       "      <td>1286</td>\n",
       "      <td>0.93</td>\n",
       "      <td>https://www.independent.co.uk/voices/abortion-...</td>\n",
       "    </tr>\n",
       "    <tr>\n",
       "      <th>3</th>\n",
       "      <td>Ann Coulter's abortion compromise: Ban \"For re...</td>\n",
       "      <td>12tmon9</td>\n",
       "      <td>hardcorepolka</td>\n",
       "      <td>1.682042e+09</td>\n",
       "      <td>12051</td>\n",
       "      <td>0.96</td>\n",
       "      <td>https://www.newsweek.com/ann-coulters-abortion...</td>\n",
       "    </tr>\n",
       "    <tr>\n",
       "      <th>4</th>\n",
       "      <td>Is Ron DeSantis done? His U.S. presidential bi...</td>\n",
       "      <td>12tw87f</td>\n",
       "      <td>Hrmbee</td>\n",
       "      <td>1.682070e+09</td>\n",
       "      <td>1545</td>\n",
       "      <td>0.98</td>\n",
       "      <td>https://www.cbc.ca/news/world/desantis-campaig...</td>\n",
       "    </tr>\n",
       "  </tbody>\n",
       "</table>\n",
       "</div>"
      ],
      "text/plain": [
       "                                               title       id  \\\n",
       "0  Missouri State Senator Doubles Down on Marriag...  12tzj87   \n",
       "1  Judge Who Ruled Against Abortion Pill Didn’t D...  12tzzn6   \n",
       "2  The Handmaid’s Tale could become reality in th...  12u03si   \n",
       "3  Ann Coulter's abortion compromise: Ban \"For re...  12tmon9   \n",
       "4  Is Ron DeSantis done? His U.S. presidential bi...  12tw87f   \n",
       "\n",
       "                 author   created_utc  score  upvote_ratio  \\\n",
       "0               claire0  1.682079e+09   2024          0.97   \n",
       "1             UGMadness  1.682080e+09   1365          0.98   \n",
       "2  theindependentonline  1.682080e+09   1286          0.93   \n",
       "3         hardcorepolka  1.682042e+09  12051          0.96   \n",
       "4                Hrmbee  1.682070e+09   1545          0.98   \n",
       "\n",
       "                                                 url  \n",
       "0  https://www.thedailybeast.com/missouri-state-s...  \n",
       "1  https://www.huffpost.com/entry/judge-matthew-k...  \n",
       "2  https://www.independent.co.uk/voices/abortion-...  \n",
       "3  https://www.newsweek.com/ann-coulters-abortion...  \n",
       "4  https://www.cbc.ca/news/world/desantis-campaig...  "
      ]
     },
     "execution_count": 24,
     "metadata": {},
     "output_type": "execute_result"
    }
   ],
   "source": [
    "df = pd.DataFrame(reddit_list)\n",
    "df.head()"
   ]
  },
  {
   "cell_type": "code",
   "execution_count": 26,
   "id": "9eb1d900",
   "metadata": {},
   "outputs": [],
   "source": [
    "df.to_csv('reddit_data.csv', header = True, encoding = 'utf-8', index= False)"
   ]
  },
  {
   "cell_type": "code",
   "execution_count": null,
   "id": "091b0dd0",
   "metadata": {},
   "outputs": [],
   "source": []
  }
 ],
 "metadata": {
  "kernelspec": {
   "display_name": "Python 3 (ipykernel)",
   "language": "python",
   "name": "python3"
  },
  "language_info": {
   "codemirror_mode": {
    "name": "ipython",
    "version": 3
   },
   "file_extension": ".py",
   "mimetype": "text/x-python",
   "name": "python",
   "nbconvert_exporter": "python",
   "pygments_lexer": "ipython3",
   "version": "3.10.9"
  }
 },
 "nbformat": 4,
 "nbformat_minor": 5
}
